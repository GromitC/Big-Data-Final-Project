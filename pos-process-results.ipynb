{
 "cells": [
  {
   "cell_type": "code",
   "execution_count": 9,
   "metadata": {
    "collapsed": false,
    "deletable": true,
    "editable": true
   },
   "outputs": [
    {
     "name": "stdout",
     "output_type": "stream",
     "text": [
      "The autoreload extension is already loaded. To reload it, use:\n",
      "  %reload_ext autoreload\n"
     ]
    }
   ],
   "source": [
    "%load_ext autoreload\n",
    "%autoreload 2\n",
    "%matplotlib inline"
   ]
  },
  {
   "cell_type": "code",
   "execution_count": 10,
   "metadata": {
    "collapsed": true,
    "deletable": true,
    "editable": true
   },
   "outputs": [],
   "source": [
    "import geopandas as gpd\n",
    "import pandas as pd\n",
    "import fiona\n",
    "import matplotlib.pyplot as plt\n",
    "import glob\n",
    "import numpy as np\n",
    "plt.rcParams[\"figure.figsize\"] = [10, 10]"
   ]
  },
  {
   "cell_type": "code",
   "execution_count": 15,
   "metadata": {
    "collapsed": false,
    "deletable": true,
    "editable": true
   },
   "outputs": [
    {
     "name": "stdout",
     "output_type": "stream",
     "text": [
      "{u'lon_0': -74, u'datum': u'NAD83', u'y_0': 0, u'no_defs': True, u'proj': u'lcc', u'x_0': 300000, u'units': u'us-ft', u'lat_2': 41.03333333333333, u'lat_1': 40.66666666666666, u'lat_0': 40.16666666666666}\n",
      "{'init': 'epsg:4326', 'no_defs': True}\n"
     ]
    }
   ],
   "source": [
    "zipc = gpd.read_file('zipcodes/ZIP_CODE_040114.shp')\n",
    "df = pd.read_csv('web/static/result_day.csv')\n",
    "print zipc.crs\n",
    "zipc = zipc.to_crs(epsg=4326)\n",
    "print zipc.crs\n",
    "# zipc.to_json('web/static/zipcodes.json', orient='records')"
   ]
  },
  {
   "cell_type": "code",
   "execution_count": 16,
   "metadata": {
    "collapsed": false,
    "deletable": true,
    "editable": true,
    "scrolled": true
   },
   "outputs": [
    {
     "data": {
      "text/plain": [
       "{'__geom__': 69500064, '__p__': None, '_is_empty': False, '_ndim': 2}"
      ]
     },
     "execution_count": 16,
     "metadata": {},
     "output_type": "execute_result"
    }
   ],
   "source": [
    "zipdict = {}\n",
    "def dec(x):\n",
    "    z = x['ZIPCODE']\n",
    "    if z not in zipdict:\n",
    "        zipdict[int(z)] = x.__dict__\n",
    "        r = {}\n",
    "        for k in zipc.columns:\n",
    "            r[k.lower()] = x[k]\n",
    "            r['geometry'] = x['geometry'].centroid\n",
    "        del r['url']\n",
    "        del r['state']\n",
    "        del r['county']\n",
    "        del r['shape_area']\n",
    "        del r['shape_len']\n",
    "        del r['bldgzip']\n",
    "        zipdict[int(z)] = r \n",
    "    \n",
    "a = zipc.apply(lambda x: dec(x), axis=1)\n",
    "zipdict.values()[0]['geometry'].__dict__"
   ]
  },
  {
   "cell_type": "code",
   "execution_count": 18,
   "metadata": {
    "collapsed": false,
    "deletable": true,
    "editable": true,
    "scrolled": true
   },
   "outputs": [
    {
     "name": "stderr",
     "output_type": "stream",
     "text": [
      "/home/fhorta/miniconda2/envs/bigdata/lib/python2.7/site-packages/ipykernel/__main__.py:23: SettingWithCopyWarning: \n",
      "A value is trying to be set on a copy of a slice from a DataFrame.\n",
      "Try using .loc[row_indexer,col_indexer] = value instead\n",
      "\n",
      "See the caveats in the documentation: http://pandas.pydata.org/pandas-docs/stable/indexing.html#indexing-view-versus-copy\n",
      "/home/fhorta/miniconda2/envs/bigdata/lib/python2.7/site-packages/ipykernel/__main__.py:24: SettingWithCopyWarning: \n",
      "A value is trying to be set on a copy of a slice from a DataFrame.\n",
      "Try using .loc[row_indexer,col_indexer] = value instead\n",
      "\n",
      "See the caveats in the documentation: http://pandas.pydata.org/pandas-docs/stable/indexing.html#indexing-view-versus-copy\n"
     ]
    }
   ],
   "source": [
    "from datetime import date, timedelta\n",
    "import datetime\n",
    "\n",
    "def conv(x):\n",
    "    x = int(x)\n",
    "    d = datetime.datetime.fromtimestamp(x)\n",
    "    return d\n",
    "\n",
    "\n",
    "def extract(s, x):\n",
    "    d1 = conv(x['startTime'])\n",
    "    d2 = conv(x['endTime'])\n",
    "    delta = d2 - d1         # timedelta\n",
    "    ret = []\n",
    "    for i in range(delta.days + 1):\n",
    "        r = d1 + timedelta(days=i)\n",
    "        r = r.strftime(\"%Y-%m-%d\")\n",
    "        ret.append(r)\n",
    "    return len(ret) if s==0 else ret\n",
    "    \n",
    "df1 = df[:]\n",
    "df1.reset_index()\n",
    "df1['ndays'] = df1.apply(lambda x: extract(0,x), axis=1)\n",
    "df1['days'] = df1.apply(lambda x: extract(1,x), axis=1)"
   ]
  },
  {
   "cell_type": "code",
   "execution_count": 19,
   "metadata": {
    "collapsed": false,
    "deletable": true,
    "editable": true,
    "scrolled": false
   },
   "outputs": [
    {
     "name": "stderr",
     "output_type": "stream",
     "text": [
      "/home/fhorta/miniconda2/envs/bigdata/lib/python2.7/site-packages/ipykernel/__main__.py:13: SettingWithCopyWarning: \n",
      "A value is trying to be set on a copy of a slice from a DataFrame.\n",
      "Try using .loc[row_indexer,col_indexer] = value instead\n",
      "\n",
      "See the caveats in the documentation: http://pandas.pydata.org/pandas-docs/stable/indexing.html#indexing-view-versus-copy\n"
     ]
    }
   ],
   "source": [
    "from shapely.geometry import mapping\n",
    "\n",
    "def getloc(x, what):\n",
    "    x = x[what]\n",
    "    try:\n",
    "        x = int(x)\n",
    "        geom = zipdict[x]['geometry']\n",
    "        feature = [{'type': 'Feature', 'properties': {}, 'geometry': mapping(geom)}]\n",
    "        return feature\n",
    "    except:\n",
    "        return ''\n",
    "    \n",
    "df1['geom_complaint'] = df1.apply(lambda x: getloc(x, 'Zip_311'), axis=1)\n",
    "df1 = df1[df1['geom_complaint']!='']\n",
    "df1['geom_crime'] = df1.apply(lambda x: getloc(x, 'Zip_NYPD'), axis=1)\n",
    "df1 = df1[df1['geom_crime']!='']"
   ]
  },
  {
   "cell_type": "code",
   "execution_count": 20,
   "metadata": {
    "collapsed": false,
    "deletable": true,
    "editable": true
   },
   "outputs": [],
   "source": [
    "ziputm = {}\n",
    "def dec(x):\n",
    "    z = x['ZIPCODE']\n",
    "    if z not in zipdict:\n",
    "        ziputm[int(z)] = x.__dict__\n",
    "        r = {}\n",
    "        for k in zipc.columns:\n",
    "            r[k.lower()] = x[k]\n",
    "            r['geometry'] = x['geometry'].centroid\n",
    "        del r['url']\n",
    "        del r['state']\n",
    "        del r['county']\n",
    "        del r['shape_area']\n",
    "        del r['shape_len']\n",
    "        del r['bldgzip']\n",
    "        ziputm[int(z)] = r \n",
    "    \n",
    "temp = zipc.to_crs(epsg=26918)\n",
    "a = temp.apply(lambda x: dec(x), axis=1)\n",
    "\n",
    "def dist(x):\n",
    "    i = ziputm[int(x['Zip_311'])]['geometry']\n",
    "    j = ziputm[int(x['Zip_NYPD'])]['geometry']\n",
    "    return i.distance(j)\n",
    "\n",
    "df1['distance'] = df1.apply(lambda x: dist(x), axis=1 )"
   ]
  },
  {
   "cell_type": "code",
   "execution_count": 21,
   "metadata": {
    "collapsed": false,
    "deletable": true,
    "editable": true
   },
   "outputs": [],
   "source": [
    "def g(x):\n",
    "    s = x['Relationship']\n",
    "    if s==1:\n",
    "        return '311->Crime'\n",
    "    if s==2:\n",
    "        return 'Crime->311'\n",
    "    else:\n",
    "        return 'No causality'\n",
    "\n",
    "df1['group'] = df.apply(lambda x: g(x), axis=1)"
   ]
  },
  {
   "cell_type": "code",
   "execution_count": 22,
   "metadata": {
    "collapsed": false,
    "deletable": true,
    "editable": true
   },
   "outputs": [],
   "source": [
    "def g(x):\n",
    "    s = x['Relationship']\n",
    "    a1 = x['311']\n",
    "    a2 = x['NYPD']\n",
    "    \n",
    "    if s==1:\n",
    "        return '%s > %s' % (a1,a2)\n",
    "    if s==2:\n",
    "        return '%s > %s' % (a2,a1)\n",
    "    else:\n",
    "        return '%s || %s' % (a1,a2)\n",
    "\n",
    "df1['name'] = df.apply(lambda x: g(x), axis=1)"
   ]
  },
  {
   "cell_type": "code",
   "execution_count": 23,
   "metadata": {
    "collapsed": false,
    "deletable": true,
    "editable": true
   },
   "outputs": [],
   "source": [
    "def fmt(x,w):\n",
    "    x = int(x[w])\n",
    "    d = datetime.datetime.fromtimestamp(x)\n",
    "    d = d.strftime(\"%Y-%m-%d\")\n",
    "    return d\n",
    "\n",
    "df1.startTime = df.apply(lambda x: fmt(x,'startTime'), axis=1)\n",
    "df1.endTime = df.apply(lambda x: fmt(x,'endTime'), axis=1)"
   ]
  },
  {
   "cell_type": "code",
   "execution_count": 53,
   "metadata": {
    "collapsed": false,
    "deletable": true,
    "editable": true
   },
   "outputs": [
    {
     "name": "stdout",
     "output_type": "stream",
     "text": [
      "0.999935072181\n",
      "-0.0\n"
     ]
    },
    {
     "data": {
      "text/plain": [
       "['Blocked DrivewayVEHICLE AND TRAFFIC LAWS', 'HARRASSMENT 2Illegal Parking']"
      ]
     },
     "execution_count": 53,
     "metadata": {},
     "output_type": "execute_result"
    }
   ],
   "source": [
    "cond = {}\n",
    "\n",
    "def getid(x):\n",
    "    s = x['Relationship']\n",
    "    a1 = x['311']\n",
    "    a2 = x['NYPD']\n",
    "    z1 = x['Zip_311']\n",
    "    z2 = x['Zip_NYPD']\n",
    "    if s==1:\n",
    "        return a1 + a2 \n",
    "    if s==2:\n",
    "        return a2 + a1\n",
    "    else:\n",
    "        return None\n",
    "\n",
    "def g(x):\n",
    "    i = getid(x)\n",
    "    if not i: \n",
    "        return\n",
    "    ndays = int(x['ndays'])\n",
    "    if i not in cond:\n",
    "        cond[i] = ndays\n",
    "    else:\n",
    "        cond[i] += ndays \n",
    "        \n",
    "def score(x):\n",
    "    i = getid(x)\n",
    "    if not i or i not in cond:\n",
    "        return 0\n",
    "    else:\n",
    "        return cond[i]\n",
    "\n",
    "a = df1.apply(lambda x: g(x), axis=1)\n",
    "max = np.array(cond.values()).max()\n",
    "for k,c in cond.iteritems():\n",
    "    cond[k] = -(float(float(c)/max*1.) - 1)\n",
    "               \n",
    "print np.array(cond.values()).max()\n",
    "print np.array(cond.values()).min()\n",
    "df1['score'] = df.apply(lambda x: score(x), axis=1)\n",
    "cond.keys()[:2]"
   ]
  },
  {
   "cell_type": "code",
   "execution_count": 54,
   "metadata": {
    "collapsed": false,
    "deletable": true,
    "editable": true
   },
   "outputs": [],
   "source": [
    "df1.reset_index().to_json('web/static/result_day-pos2.json', orient='records')"
   ]
  },
  {
   "cell_type": "code",
   "execution_count": 14,
   "metadata": {
    "collapsed": false,
    "deletable": true,
    "editable": true
   },
   "outputs": [
    {
     "ename": "NameError",
     "evalue": "name 'df1_light' is not defined",
     "output_type": "error",
     "traceback": [
      "\u001b[0;31m---------------------------------------------------------------------------\u001b[0m",
      "\u001b[0;31mNameError\u001b[0m                                 Traceback (most recent call last)",
      "\u001b[0;32m<ipython-input-14-591f5d7da2af>\u001b[0m in \u001b[0;36m<module>\u001b[0;34m()\u001b[0m\n\u001b[1;32m      1\u001b[0m \u001b[0;31m# df1_light = df1.drop(['geom_crime', 'geom_complaint'], axis=1)\u001b[0m\u001b[0;34m\u001b[0m\u001b[0;34m\u001b[0m\u001b[0m\n\u001b[0;32m----> 2\u001b[0;31m \u001b[0mdf1_light\u001b[0m\u001b[0;34m.\u001b[0m\u001b[0mto_json\u001b[0m\u001b[0;34m(\u001b[0m\u001b[0;34m'web/static/result_day-pos2-light.csv'\u001b[0m\u001b[0;34m)\u001b[0m\u001b[0;34m\u001b[0m\u001b[0m\n\u001b[0m",
      "\u001b[0;31mNameError\u001b[0m: name 'df1_light' is not defined"
     ]
    }
   ],
   "source": [
    "# df1_light = df1.drop(['geom_crime', 'geom_complaint'], axis=1)\n",
    "df1_light.to_json('web/static/result_day-pos2-light.csv')"
   ]
  },
  {
   "cell_type": "code",
   "execution_count": null,
   "metadata": {
    "collapsed": true,
    "deletable": true,
    "editable": true
   },
   "outputs": [],
   "source": [
    "df2 = pd.read_csv('web/static/streets.csv')"
   ]
  },
  {
   "cell_type": "code",
   "execution_count": null,
   "metadata": {
    "collapsed": false,
    "deletable": true,
    "editable": true
   },
   "outputs": [],
   "source": [
    "df2.head()"
   ]
  },
  {
   "cell_type": "code",
   "execution_count": null,
   "metadata": {
    "collapsed": false,
    "deletable": true,
    "editable": true
   },
   "outputs": [],
   "source": [
    "df1.group.head()"
   ]
  },
  {
   "cell_type": "code",
   "execution_count": null,
   "metadata": {
    "collapsed": true,
    "deletable": true,
    "editable": true
   },
   "outputs": [],
   "source": []
  }
 ],
 "metadata": {
  "kernelspec": {
   "display_name": "Python 2",
   "language": "python",
   "name": "python2"
  },
  "language_info": {
   "codemirror_mode": {
    "name": "ipython",
    "version": 2
   },
   "file_extension": ".py",
   "mimetype": "text/x-python",
   "name": "python",
   "nbconvert_exporter": "python",
   "pygments_lexer": "ipython2",
   "version": "2.7.13"
  }
 },
 "nbformat": 4,
 "nbformat_minor": 2
}
